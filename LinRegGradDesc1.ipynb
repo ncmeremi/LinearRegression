{
  "nbformat": 4,
  "nbformat_minor": 0,
  "metadata": {
    "colab": {
      "name": "LinRegGradDesc1.ipynb",
      "provenance": [],
      "collapsed_sections": []
    },
    "kernelspec": {
      "name": "python3",
      "display_name": "Python 3"
    },
    "language_info": {
      "name": "python"
    }
  },
  "cells": [
    {
      "cell_type": "code",
      "metadata": {
        "id": "IgCyxFHKB_h2"
      },
      "source": [
        "import pandas as pd\n",
        "import numpy as np\n",
        "from sklearn.model_selection import train_test_split \n",
        "from sklearn import linear_model\n",
        "from sklearn.metrics import mean_squared_error, r2_score\n",
        "#import matplotlib.pyplot as plt\n",
        "#from mpl_toolkits import mplot3d"
      ],
      "execution_count": null,
      "outputs": []
    },
    {
      "cell_type": "code",
      "metadata": {
        "colab": {
          "base_uri": "https://localhost:8080/",
          "height": 221
        },
        "id": "co1TyxJbCKSt",
        "outputId": "07276ffe-e969-4485-e652-c77789d2bcdd"
      },
      "source": [
        "#retrieve dataset\n",
        "url = 'https://raw.githubusercontent.com/ncmerem/LinearRegression/main/wqW.csv'\n",
        "data = pd.read_csv(url, sep=';')\n",
        "data.head()"
      ],
      "execution_count": null,
      "outputs": [
        {
          "output_type": "execute_result",
          "data": {
            "text/html": [
              "<div>\n",
              "<style scoped>\n",
              "    .dataframe tbody tr th:only-of-type {\n",
              "        vertical-align: middle;\n",
              "    }\n",
              "\n",
              "    .dataframe tbody tr th {\n",
              "        vertical-align: top;\n",
              "    }\n",
              "\n",
              "    .dataframe thead th {\n",
              "        text-align: right;\n",
              "    }\n",
              "</style>\n",
              "<table border=\"1\" class=\"dataframe\">\n",
              "  <thead>\n",
              "    <tr style=\"text-align: right;\">\n",
              "      <th></th>\n",
              "      <th>fixed acidity</th>\n",
              "      <th>volatile acidity</th>\n",
              "      <th>citric acid</th>\n",
              "      <th>residual sugar</th>\n",
              "      <th>chlorides</th>\n",
              "      <th>free sulfur dioxide</th>\n",
              "      <th>total sulfur dioxide</th>\n",
              "      <th>density</th>\n",
              "      <th>pH</th>\n",
              "      <th>sulphates</th>\n",
              "      <th>alcohol</th>\n",
              "      <th>quality</th>\n",
              "    </tr>\n",
              "  </thead>\n",
              "  <tbody>\n",
              "    <tr>\n",
              "      <th>0</th>\n",
              "      <td>7.0</td>\n",
              "      <td>0.27</td>\n",
              "      <td>0.36</td>\n",
              "      <td>20.7</td>\n",
              "      <td>0.045</td>\n",
              "      <td>45.0</td>\n",
              "      <td>170.0</td>\n",
              "      <td>1.0010</td>\n",
              "      <td>3.00</td>\n",
              "      <td>0.45</td>\n",
              "      <td>8.8</td>\n",
              "      <td>6</td>\n",
              "    </tr>\n",
              "    <tr>\n",
              "      <th>1</th>\n",
              "      <td>6.3</td>\n",
              "      <td>0.30</td>\n",
              "      <td>0.34</td>\n",
              "      <td>1.6</td>\n",
              "      <td>0.049</td>\n",
              "      <td>14.0</td>\n",
              "      <td>132.0</td>\n",
              "      <td>0.9940</td>\n",
              "      <td>3.30</td>\n",
              "      <td>0.49</td>\n",
              "      <td>9.5</td>\n",
              "      <td>6</td>\n",
              "    </tr>\n",
              "    <tr>\n",
              "      <th>2</th>\n",
              "      <td>8.1</td>\n",
              "      <td>0.28</td>\n",
              "      <td>0.40</td>\n",
              "      <td>6.9</td>\n",
              "      <td>0.050</td>\n",
              "      <td>30.0</td>\n",
              "      <td>97.0</td>\n",
              "      <td>0.9951</td>\n",
              "      <td>3.26</td>\n",
              "      <td>0.44</td>\n",
              "      <td>10.1</td>\n",
              "      <td>6</td>\n",
              "    </tr>\n",
              "    <tr>\n",
              "      <th>3</th>\n",
              "      <td>7.2</td>\n",
              "      <td>0.23</td>\n",
              "      <td>0.32</td>\n",
              "      <td>8.5</td>\n",
              "      <td>0.058</td>\n",
              "      <td>47.0</td>\n",
              "      <td>186.0</td>\n",
              "      <td>0.9956</td>\n",
              "      <td>3.19</td>\n",
              "      <td>0.40</td>\n",
              "      <td>9.9</td>\n",
              "      <td>6</td>\n",
              "    </tr>\n",
              "    <tr>\n",
              "      <th>4</th>\n",
              "      <td>7.2</td>\n",
              "      <td>0.23</td>\n",
              "      <td>0.32</td>\n",
              "      <td>8.5</td>\n",
              "      <td>0.058</td>\n",
              "      <td>47.0</td>\n",
              "      <td>186.0</td>\n",
              "      <td>0.9956</td>\n",
              "      <td>3.19</td>\n",
              "      <td>0.40</td>\n",
              "      <td>9.9</td>\n",
              "      <td>6</td>\n",
              "    </tr>\n",
              "  </tbody>\n",
              "</table>\n",
              "</div>"
            ],
            "text/plain": [
              "   fixed acidity  volatile acidity  citric acid  ...  sulphates  alcohol  quality\n",
              "0            7.0              0.27         0.36  ...       0.45      8.8        6\n",
              "1            6.3              0.30         0.34  ...       0.49      9.5        6\n",
              "2            8.1              0.28         0.40  ...       0.44     10.1        6\n",
              "3            7.2              0.23         0.32  ...       0.40      9.9        6\n",
              "4            7.2              0.23         0.32  ...       0.40      9.9        6\n",
              "\n",
              "[5 rows x 12 columns]"
            ]
          },
          "metadata": {
            "tags": []
          },
          "execution_count": 189
        }
      ]
    },
    {
      "cell_type": "code",
      "metadata": {
        "colab": {
          "base_uri": "https://localhost:8080/",
          "height": 351
        },
        "id": "1Wv2g2hoCni2",
        "outputId": "a777a13b-ba80-4554-a945-faa419943563"
      },
      "source": [
        "data.describe()"
      ],
      "execution_count": null,
      "outputs": [
        {
          "output_type": "execute_result",
          "data": {
            "text/html": [
              "<div>\n",
              "<style scoped>\n",
              "    .dataframe tbody tr th:only-of-type {\n",
              "        vertical-align: middle;\n",
              "    }\n",
              "\n",
              "    .dataframe tbody tr th {\n",
              "        vertical-align: top;\n",
              "    }\n",
              "\n",
              "    .dataframe thead th {\n",
              "        text-align: right;\n",
              "    }\n",
              "</style>\n",
              "<table border=\"1\" class=\"dataframe\">\n",
              "  <thead>\n",
              "    <tr style=\"text-align: right;\">\n",
              "      <th></th>\n",
              "      <th>fixed acidity</th>\n",
              "      <th>volatile acidity</th>\n",
              "      <th>citric acid</th>\n",
              "      <th>residual sugar</th>\n",
              "      <th>chlorides</th>\n",
              "      <th>free sulfur dioxide</th>\n",
              "      <th>total sulfur dioxide</th>\n",
              "      <th>density</th>\n",
              "      <th>pH</th>\n",
              "      <th>sulphates</th>\n",
              "      <th>alcohol</th>\n",
              "      <th>quality</th>\n",
              "    </tr>\n",
              "  </thead>\n",
              "  <tbody>\n",
              "    <tr>\n",
              "      <th>count</th>\n",
              "      <td>4898.000000</td>\n",
              "      <td>4898.000000</td>\n",
              "      <td>4898.000000</td>\n",
              "      <td>4898.000000</td>\n",
              "      <td>4898.000000</td>\n",
              "      <td>4898.000000</td>\n",
              "      <td>4898.000000</td>\n",
              "      <td>4898.000000</td>\n",
              "      <td>4898.000000</td>\n",
              "      <td>4898.000000</td>\n",
              "      <td>4898.000000</td>\n",
              "      <td>4898.000000</td>\n",
              "    </tr>\n",
              "    <tr>\n",
              "      <th>mean</th>\n",
              "      <td>6.854788</td>\n",
              "      <td>0.278241</td>\n",
              "      <td>0.334192</td>\n",
              "      <td>6.391415</td>\n",
              "      <td>0.045772</td>\n",
              "      <td>35.308085</td>\n",
              "      <td>138.360657</td>\n",
              "      <td>0.994027</td>\n",
              "      <td>3.188267</td>\n",
              "      <td>0.489847</td>\n",
              "      <td>10.514267</td>\n",
              "      <td>5.877909</td>\n",
              "    </tr>\n",
              "    <tr>\n",
              "      <th>std</th>\n",
              "      <td>0.843868</td>\n",
              "      <td>0.100795</td>\n",
              "      <td>0.121020</td>\n",
              "      <td>5.072058</td>\n",
              "      <td>0.021848</td>\n",
              "      <td>17.007137</td>\n",
              "      <td>42.498065</td>\n",
              "      <td>0.002991</td>\n",
              "      <td>0.151001</td>\n",
              "      <td>0.114126</td>\n",
              "      <td>1.230621</td>\n",
              "      <td>0.885639</td>\n",
              "    </tr>\n",
              "    <tr>\n",
              "      <th>min</th>\n",
              "      <td>3.800000</td>\n",
              "      <td>0.080000</td>\n",
              "      <td>0.000000</td>\n",
              "      <td>0.600000</td>\n",
              "      <td>0.009000</td>\n",
              "      <td>2.000000</td>\n",
              "      <td>9.000000</td>\n",
              "      <td>0.987110</td>\n",
              "      <td>2.720000</td>\n",
              "      <td>0.220000</td>\n",
              "      <td>8.000000</td>\n",
              "      <td>3.000000</td>\n",
              "    </tr>\n",
              "    <tr>\n",
              "      <th>25%</th>\n",
              "      <td>6.300000</td>\n",
              "      <td>0.210000</td>\n",
              "      <td>0.270000</td>\n",
              "      <td>1.700000</td>\n",
              "      <td>0.036000</td>\n",
              "      <td>23.000000</td>\n",
              "      <td>108.000000</td>\n",
              "      <td>0.991723</td>\n",
              "      <td>3.090000</td>\n",
              "      <td>0.410000</td>\n",
              "      <td>9.500000</td>\n",
              "      <td>5.000000</td>\n",
              "    </tr>\n",
              "    <tr>\n",
              "      <th>50%</th>\n",
              "      <td>6.800000</td>\n",
              "      <td>0.260000</td>\n",
              "      <td>0.320000</td>\n",
              "      <td>5.200000</td>\n",
              "      <td>0.043000</td>\n",
              "      <td>34.000000</td>\n",
              "      <td>134.000000</td>\n",
              "      <td>0.993740</td>\n",
              "      <td>3.180000</td>\n",
              "      <td>0.470000</td>\n",
              "      <td>10.400000</td>\n",
              "      <td>6.000000</td>\n",
              "    </tr>\n",
              "    <tr>\n",
              "      <th>75%</th>\n",
              "      <td>7.300000</td>\n",
              "      <td>0.320000</td>\n",
              "      <td>0.390000</td>\n",
              "      <td>9.900000</td>\n",
              "      <td>0.050000</td>\n",
              "      <td>46.000000</td>\n",
              "      <td>167.000000</td>\n",
              "      <td>0.996100</td>\n",
              "      <td>3.280000</td>\n",
              "      <td>0.550000</td>\n",
              "      <td>11.400000</td>\n",
              "      <td>6.000000</td>\n",
              "    </tr>\n",
              "    <tr>\n",
              "      <th>max</th>\n",
              "      <td>14.200000</td>\n",
              "      <td>1.100000</td>\n",
              "      <td>1.660000</td>\n",
              "      <td>65.800000</td>\n",
              "      <td>0.346000</td>\n",
              "      <td>289.000000</td>\n",
              "      <td>440.000000</td>\n",
              "      <td>1.038980</td>\n",
              "      <td>3.820000</td>\n",
              "      <td>1.080000</td>\n",
              "      <td>14.200000</td>\n",
              "      <td>9.000000</td>\n",
              "    </tr>\n",
              "  </tbody>\n",
              "</table>\n",
              "</div>"
            ],
            "text/plain": [
              "       fixed acidity  volatile acidity  ...      alcohol      quality\n",
              "count    4898.000000       4898.000000  ...  4898.000000  4898.000000\n",
              "mean        6.854788          0.278241  ...    10.514267     5.877909\n",
              "std         0.843868          0.100795  ...     1.230621     0.885639\n",
              "min         3.800000          0.080000  ...     8.000000     3.000000\n",
              "25%         6.300000          0.210000  ...     9.500000     5.000000\n",
              "50%         6.800000          0.260000  ...    10.400000     6.000000\n",
              "75%         7.300000          0.320000  ...    11.400000     6.000000\n",
              "max        14.200000          1.100000  ...    14.200000     9.000000\n",
              "\n",
              "[8 rows x 12 columns]"
            ]
          },
          "metadata": {
            "tags": []
          },
          "execution_count": 190
        }
      ]
    },
    {
      "cell_type": "code",
      "metadata": {
        "colab": {
          "base_uri": "https://localhost:8080/",
          "height": 351
        },
        "id": "hBjuSLFFNLMk",
        "outputId": "0ec0bb34-5a5f-4855-f905-bd88a60c3f2c"
      },
      "source": [
        "data_z = (data - data.mean()) / data.std()\n",
        "data_z.describe()"
      ],
      "execution_count": null,
      "outputs": [
        {
          "output_type": "execute_result",
          "data": {
            "text/html": [
              "<div>\n",
              "<style scoped>\n",
              "    .dataframe tbody tr th:only-of-type {\n",
              "        vertical-align: middle;\n",
              "    }\n",
              "\n",
              "    .dataframe tbody tr th {\n",
              "        vertical-align: top;\n",
              "    }\n",
              "\n",
              "    .dataframe thead th {\n",
              "        text-align: right;\n",
              "    }\n",
              "</style>\n",
              "<table border=\"1\" class=\"dataframe\">\n",
              "  <thead>\n",
              "    <tr style=\"text-align: right;\">\n",
              "      <th></th>\n",
              "      <th>fixed acidity</th>\n",
              "      <th>volatile acidity</th>\n",
              "      <th>citric acid</th>\n",
              "      <th>residual sugar</th>\n",
              "      <th>chlorides</th>\n",
              "      <th>free sulfur dioxide</th>\n",
              "      <th>total sulfur dioxide</th>\n",
              "      <th>density</th>\n",
              "      <th>pH</th>\n",
              "      <th>sulphates</th>\n",
              "      <th>alcohol</th>\n",
              "      <th>quality</th>\n",
              "    </tr>\n",
              "  </thead>\n",
              "  <tbody>\n",
              "    <tr>\n",
              "      <th>count</th>\n",
              "      <td>4.898000e+03</td>\n",
              "      <td>4.898000e+03</td>\n",
              "      <td>4.898000e+03</td>\n",
              "      <td>4.898000e+03</td>\n",
              "      <td>4.898000e+03</td>\n",
              "      <td>4.898000e+03</td>\n",
              "      <td>4.898000e+03</td>\n",
              "      <td>4.898000e+03</td>\n",
              "      <td>4.898000e+03</td>\n",
              "      <td>4.898000e+03</td>\n",
              "      <td>4.898000e+03</td>\n",
              "      <td>4.898000e+03</td>\n",
              "    </tr>\n",
              "    <tr>\n",
              "      <th>mean</th>\n",
              "      <td>2.653755e-14</td>\n",
              "      <td>-1.053431e-14</td>\n",
              "      <td>5.344610e-14</td>\n",
              "      <td>-2.538326e-15</td>\n",
              "      <td>-1.419036e-15</td>\n",
              "      <td>6.210721e-18</td>\n",
              "      <td>-1.387439e-16</td>\n",
              "      <td>2.148461e-12</td>\n",
              "      <td>1.316599e-14</td>\n",
              "      <td>-1.280696e-14</td>\n",
              "      <td>-2.846868e-14</td>\n",
              "      <td>3.622675e-16</td>\n",
              "    </tr>\n",
              "    <tr>\n",
              "      <th>std</th>\n",
              "      <td>1.000000e+00</td>\n",
              "      <td>1.000000e+00</td>\n",
              "      <td>1.000000e+00</td>\n",
              "      <td>1.000000e+00</td>\n",
              "      <td>1.000000e+00</td>\n",
              "      <td>1.000000e+00</td>\n",
              "      <td>1.000000e+00</td>\n",
              "      <td>1.000000e+00</td>\n",
              "      <td>1.000000e+00</td>\n",
              "      <td>1.000000e+00</td>\n",
              "      <td>1.000000e+00</td>\n",
              "      <td>1.000000e+00</td>\n",
              "    </tr>\n",
              "    <tr>\n",
              "      <th>min</th>\n",
              "      <td>-3.619982e+00</td>\n",
              "      <td>-1.966784e+00</td>\n",
              "      <td>-2.761461e+00</td>\n",
              "      <td>-1.141827e+00</td>\n",
              "      <td>-1.683102e+00</td>\n",
              "      <td>-1.958477e+00</td>\n",
              "      <td>-3.043919e+00</td>\n",
              "      <td>-2.312802e+00</td>\n",
              "      <td>-3.101091e+00</td>\n",
              "      <td>-2.364468e+00</td>\n",
              "      <td>-2.043089e+00</td>\n",
              "      <td>-3.249530e+00</td>\n",
              "    </tr>\n",
              "    <tr>\n",
              "      <th>25%</th>\n",
              "      <td>-6.574340e-01</td>\n",
              "      <td>-6.770318e-01</td>\n",
              "      <td>-5.304215e-01</td>\n",
              "      <td>-9.249530e-01</td>\n",
              "      <td>-4.472890e-01</td>\n",
              "      <td>-7.237012e-01</td>\n",
              "      <td>-7.144009e-01</td>\n",
              "      <td>-7.706280e-01</td>\n",
              "      <td>-6.507699e-01</td>\n",
              "      <td>-6.996389e-01</td>\n",
              "      <td>-8.241915e-01</td>\n",
              "      <td>-9.912727e-01</td>\n",
              "    </tr>\n",
              "    <tr>\n",
              "      <th>50%</th>\n",
              "      <td>-6.492444e-02</td>\n",
              "      <td>-1.809733e-01</td>\n",
              "      <td>-1.172660e-01</td>\n",
              "      <td>-2.348977e-01</td>\n",
              "      <td>-1.268931e-01</td>\n",
              "      <td>-7.691388e-02</td>\n",
              "      <td>-1.026084e-01</td>\n",
              "      <td>-9.608339e-02</td>\n",
              "      <td>-5.474574e-02</td>\n",
              "      <td>-1.739035e-01</td>\n",
              "      <td>-9.285319e-02</td>\n",
              "      <td>1.378561e-01</td>\n",
              "    </tr>\n",
              "    <tr>\n",
              "      <th>75%</th>\n",
              "      <td>5.275851e-01</td>\n",
              "      <td>4.142970e-01</td>\n",
              "      <td>4.611517e-01</td>\n",
              "      <td>6.917479e-01</td>\n",
              "      <td>1.935028e-01</td>\n",
              "      <td>6.286722e-01</td>\n",
              "      <td>6.738976e-01</td>\n",
              "      <td>6.929749e-01</td>\n",
              "      <td>6.075033e-01</td>\n",
              "      <td>5.270772e-01</td>\n",
              "      <td>7.197450e-01</td>\n",
              "      <td>1.378561e-01</td>\n",
              "    </tr>\n",
              "    <tr>\n",
              "      <th>max</th>\n",
              "      <td>8.704217e+00</td>\n",
              "      <td>8.152811e+00</td>\n",
              "      <td>1.095530e+01</td>\n",
              "      <td>1.171292e+01</td>\n",
              "      <td>1.374167e+01</td>\n",
              "      <td>1.491679e+01</td>\n",
              "      <td>7.097720e+00</td>\n",
              "      <td>1.502976e+01</td>\n",
              "      <td>4.183648e+00</td>\n",
              "      <td>5.171074e+00</td>\n",
              "      <td>2.995020e+00</td>\n",
              "      <td>3.525242e+00</td>\n",
              "    </tr>\n",
              "  </tbody>\n",
              "</table>\n",
              "</div>"
            ],
            "text/plain": [
              "       fixed acidity  volatile acidity  ...       alcohol       quality\n",
              "count   4.898000e+03      4.898000e+03  ...  4.898000e+03  4.898000e+03\n",
              "mean    2.653755e-14     -1.053431e-14  ... -2.846868e-14  3.622675e-16\n",
              "std     1.000000e+00      1.000000e+00  ...  1.000000e+00  1.000000e+00\n",
              "min    -3.619982e+00     -1.966784e+00  ... -2.043089e+00 -3.249530e+00\n",
              "25%    -6.574340e-01     -6.770318e-01  ... -8.241915e-01 -9.912727e-01\n",
              "50%    -6.492444e-02     -1.809733e-01  ... -9.285319e-02  1.378561e-01\n",
              "75%     5.275851e-01      4.142970e-01  ...  7.197450e-01  1.378561e-01\n",
              "max     8.704217e+00      8.152811e+00  ...  2.995020e+00  3.525242e+00\n",
              "\n",
              "[8 rows x 12 columns]"
            ]
          },
          "metadata": {
            "tags": []
          },
          "execution_count": 191
        }
      ]
    },
    {
      "cell_type": "code",
      "metadata": {
        "colab": {
          "base_uri": "https://localhost:8080/"
        },
        "id": "G0TDBzWvNYQv",
        "outputId": "9361ee16-f131-490a-e9e8-fc9010bb15ac"
      },
      "source": [
        "sigma = data.std()\n",
        "mu = data.mean()\n",
        "print(\"Standard Deviations\\n\", sigma)\n",
        "print(\"\\nAverages\\n\", mu)"
      ],
      "execution_count": null,
      "outputs": [
        {
          "output_type": "stream",
          "text": [
            "Standard Deviations\n",
            " fixed acidity            0.843868\n",
            "volatile acidity         0.100795\n",
            "citric acid              0.121020\n",
            "residual sugar           5.072058\n",
            "chlorides                0.021848\n",
            "free sulfur dioxide     17.007137\n",
            "total sulfur dioxide    42.498065\n",
            "density                  0.002991\n",
            "pH                       0.151001\n",
            "sulphates                0.114126\n",
            "alcohol                  1.230621\n",
            "quality                  0.885639\n",
            "dtype: float64\n",
            "\n",
            "Averages\n",
            " fixed acidity             6.854788\n",
            "volatile acidity          0.278241\n",
            "citric acid               0.334192\n",
            "residual sugar            6.391415\n",
            "chlorides                 0.045772\n",
            "free sulfur dioxide      35.308085\n",
            "total sulfur dioxide    138.360657\n",
            "density                   0.994027\n",
            "pH                        3.188267\n",
            "sulphates                 0.489847\n",
            "alcohol                  10.514267\n",
            "quality                   5.877909\n",
            "dtype: float64\n"
          ],
          "name": "stdout"
        }
      ]
    },
    {
      "cell_type": "code",
      "metadata": {
        "id": "1YpbwcoRCxbh"
      },
      "source": [
        "def mse_cost(feature, target, weight):\n",
        "  se = np.power(((feature * weight.T) - target), 2)\n",
        "  return np.sum(se) / (2 * len(feature))"
      ],
      "execution_count": null,
      "outputs": []
    },
    {
      "cell_type": "code",
      "metadata": {
        "id": "2RNCtoqNGBCI"
      },
      "source": [
        "def train(features, target, weights, step, iters):\n",
        "  temp = np.matrix(np.zeros(weights.shape))\n",
        "  \n",
        "  parameters = int(weights.ravel().shape[1])\n",
        "  \n",
        "  cost = np.zeros(iters + 1)\n",
        "  cost[0] = mse_cost(features, target, weights)\n",
        "  \n",
        "  for i in range(iters):\n",
        "    error = (features * weights.T) - target\n",
        "    \n",
        "    for j in range(parameters):\n",
        "      term = np.multiply(error, features[:,j])\n",
        "      temp[0,j] = weights[0,j] - ((step / len(features)) * np.sum(term))\n",
        "      \n",
        "    weights = temp\n",
        "    cost[i + 1] = mse_cost(features, target, weights)\n",
        "\n",
        "    if i % 10 == 0:\n",
        "      print (\"iter={}    cost={}\".format(i, cost[i]))\n",
        "    \n",
        "  return weights, cost"
      ],
      "execution_count": null,
      "outputs": []
    },
    {
      "cell_type": "code",
      "metadata": {
        "colab": {
          "base_uri": "https://localhost:8080/",
          "height": 52
        },
        "id": "cl0otQwb8vlm",
        "outputId": "dd13cf26-0d05-4054-f6ea-eb059a3e6c3b"
      },
      "source": [
        "'''\n",
        "def test(features, target, weights):\n",
        "  predictions = features * weights.T\n",
        "  test_mse = mse_cost(features, target, weights)\n",
        "  return predictions, test_mse\n",
        "'''"
      ],
      "execution_count": null,
      "outputs": [
        {
          "output_type": "execute_result",
          "data": {
            "application/vnd.google.colaboratory.intrinsic+json": {
              "type": "string"
            },
            "text/plain": [
              "'\\ndef test(features, target, weights):\\n  predictions = features * weights.T\\n  test_mse = mse_cost(features, target, weights)\\n  return predictions, test_mse\\n'"
            ]
          },
          "metadata": {
            "tags": []
          },
          "execution_count": 195
        }
      ]
    },
    {
      "cell_type": "code",
      "metadata": {
        "id": "lSJgsdmrHyi5"
      },
      "source": [
        "data_z['x_0'] = 1\n",
        "X = data_z.drop(['quality'], axis=1)\n",
        "y = data_z['quality']"
      ],
      "execution_count": null,
      "outputs": []
    },
    {
      "cell_type": "code",
      "metadata": {
        "id": "gBYdpK2rIexf"
      },
      "source": [
        "X = np.matrix(X.values)\n",
        "y = np.matrix(y.values).T\n",
        "W = np.matrix(np.zeros(shape=[1,X.shape[1]]))"
      ],
      "execution_count": null,
      "outputs": []
    },
    {
      "cell_type": "code",
      "metadata": {
        "colab": {
          "base_uri": "https://localhost:8080/"
        },
        "id": "U0vuQn9XIiVm",
        "outputId": "082a4c9b-37fe-48aa-8e62-69b16b16b0db"
      },
      "source": [
        "print(X.shape, y.shape, W.shape)"
      ],
      "execution_count": null,
      "outputs": [
        {
          "output_type": "stream",
          "text": [
            "(4898, 12) (4898, 1) (1, 12)\n"
          ],
          "name": "stdout"
        }
      ]
    },
    {
      "cell_type": "code",
      "metadata": {
        "colab": {
          "base_uri": "https://localhost:8080/"
        },
        "id": "Ka2jdgeC5JIY",
        "outputId": "0c1295a6-e3ea-485e-99c8-104c5e70ab83"
      },
      "source": [
        "X_train, X_test, y_train, y_test = train_test_split(X, y, test_size = 0.2, random_state = 3)\n",
        "print(X_train.shape, y_train.shape, W.shape)\n",
        "print(X_test.shape, y_test.shape)"
      ],
      "execution_count": null,
      "outputs": [
        {
          "output_type": "stream",
          "text": [
            "(3918, 12) (3918, 1) (1, 12)\n",
            "(980, 12) (980, 1)\n"
          ],
          "name": "stdout"
        }
      ]
    },
    {
      "cell_type": "code",
      "metadata": {
        "colab": {
          "base_uri": "https://localhost:8080/"
        },
        "id": "C_7DoftvIl55",
        "outputId": "98420955-c009-41c3-973a-5e3a35345d2e"
      },
      "source": [
        "mse_cost(X_train, y_train, W)"
      ],
      "execution_count": null,
      "outputs": [
        {
          "output_type": "execute_result",
          "data": {
            "text/plain": [
              "0.4930676279622134"
            ]
          },
          "metadata": {
            "tags": []
          },
          "execution_count": 200
        }
      ]
    },
    {
      "cell_type": "code",
      "metadata": {
        "colab": {
          "base_uri": "https://localhost:8080/"
        },
        "id": "aczFZv3NIvt5",
        "outputId": "24c20a1e-83c4-4260-eee8-6324344f1229"
      },
      "source": [
        "lr = 0.01\n",
        "iters = 1000\n",
        "W_final, cost = train(X_train, y_train, W, lr, iters)"
      ],
      "execution_count": null,
      "outputs": [
        {
          "output_type": "stream",
          "text": [
            "iter=0    cost=0.4930676279622134\n",
            "iter=10    cost=0.4596196454418549\n",
            "iter=20    cost=0.4380588459991032\n",
            "iter=30    cost=0.4233332282474974\n",
            "iter=40    cost=0.41270161589102144\n",
            "iter=50    cost=0.404644485231683\n",
            "iter=60    cost=0.3982946878451881\n",
            "iter=70    cost=0.39313854180688074\n",
            "iter=80    cost=0.388857818216767\n",
            "iter=90    cost=0.38524537908105955\n",
            "iter=100    cost=0.3821594930083651\n",
            "iter=110    cost=0.37949860058520146\n",
            "iter=120    cost=0.3771869990717154\n",
            "iter=130    cost=0.3751664403389812\n",
            "iter=140    cost=0.37339099442568374\n",
            "iter=150    cost=0.3718237644756719\n",
            "iter=160    cost=0.37043468689305564\n",
            "iter=170    cost=0.36919899345030843\n",
            "iter=180    cost=0.3680960953433389\n",
            "iter=190    cost=0.3671087485318325\n",
            "iter=200    cost=0.36622241462552596\n",
            "iter=210    cost=0.3654247627427333\n",
            "iter=220    cost=0.36470527604373304\n",
            "iter=230    cost=0.36405493778486925\n",
            "iter=240    cost=0.3634659788302682\n",
            "iter=250    cost=0.3629316732701768\n",
            "iter=260    cost=0.3624461720551968\n",
            "iter=270    cost=0.3620043668915628\n",
            "iter=280    cost=0.36160177836420704\n",
            "iter=290    cost=0.3612344635511864\n",
            "iter=300    cost=0.3608989393859334\n",
            "iter=310    cost=0.36059211879305025\n",
            "iter=320    cost=0.36031125722455043\n",
            "iter=330    cost=0.36005390769628903\n",
            "iter=340    cost=0.3598178827980017\n",
            "iter=350    cost=0.35960122244681947\n",
            "iter=360    cost=0.35940216639002176\n",
            "iter=370    cost=0.35921913065102795\n",
            "iter=380    cost=0.359050687263201\n",
            "iter=390    cost=0.358895546756772\n",
            "iter=400    cost=0.3587525429612347\n",
            "iter=410    cost=0.35862061976373905\n",
            "iter=420    cost=0.3584988195271591\n",
            "iter=430    cost=0.3583862729226389\n",
            "iter=440    cost=0.35828218997294004\n",
            "iter=450    cost=0.35818585213671544\n",
            "iter=460    cost=0.35809660529145004\n",
            "iter=470    cost=0.3580138534954261\n",
            "iter=480    cost=0.35793705342766796\n",
            "iter=490    cost=0.3578657094201635\n",
            "iter=500    cost=0.3577993690093549\n",
            "iter=510    cost=0.3577376189444495\n",
            "iter=520    cost=0.3576800815989019\n",
            "iter=530    cost=0.3576264117387939\n",
            "iter=540    cost=0.3575762936080405\n",
            "iter=550    cost=0.35752943829558465\n",
            "iter=560    cost=0.3574855813541836\n",
            "iter=570    cost=0.35744448064417106\n",
            "iter=580    cost=0.3574059143788081\n",
            "iter=590    cost=0.3573696793506132\n",
            "iter=600    cost=0.35733558932044884\n",
            "iter=610    cost=0.3573034735532142\n",
            "iter=620    cost=0.35727317548578486\n",
            "iter=630    cost=0.3572445515144124\n",
            "iter=640    cost=0.3572174698901586\n",
            "iter=650    cost=0.357191809712147\n",
            "iter=660    cost=0.3571674600094668\n",
            "iter=670    cost=0.3571443189035037\n",
            "iter=680    cost=0.3571222928432903\n",
            "iter=690    cost=0.35710129590721246\n",
            "iter=700    cost=0.3570812491650523\n",
            "iter=710    cost=0.3570620800949354\n",
            "iter=720    cost=0.3570437220502677\n",
            "iter=730    cost=0.3570261137722142\n",
            "iter=740    cost=0.3570091989436899\n",
            "iter=750    cost=0.3569929257812049\n",
            "iter=760    cost=0.3569772466612502\n",
            "iter=770    cost=0.35696211777820563\n",
            "iter=780    cost=0.3569474988310351\n",
            "iter=790    cost=0.3569333527362741\n",
            "iter=800    cost=0.3569196453650448\n",
            "iter=810    cost=0.3569063453020316\n",
            "iter=820    cost=0.35689342362453846\n",
            "iter=830    cost=0.3568808536999108\n",
            "iter=840    cost=0.35686861099976125\n",
            "iter=850    cost=0.35685667292957074\n",
            "iter=860    cost=0.3568450186723644\n",
            "iter=870    cost=0.35683362904527394\n",
            "iter=880    cost=0.35682248636790026\n",
            "iter=890    cost=0.3568115743414867\n",
            "iter=900    cost=0.35680087793799414\n",
            "iter=910    cost=0.3567903832982525\n",
            "iter=920    cost=0.3567800776384299\n",
            "iter=930    cost=0.3567699491641258\n",
            "iter=940    cost=0.35675998699145794\n",
            "iter=950    cost=0.3567501810745585\n",
            "iter=960    cost=0.35674052213895335\n",
            "iter=970    cost=0.3567310016203345\n",
            "iter=980    cost=0.3567216116082844\n",
            "iter=990    cost=0.356712344794542\n"
          ],
          "name": "stdout"
        }
      ]
    },
    {
      "cell_type": "code",
      "metadata": {
        "colab": {
          "base_uri": "https://localhost:8080/"
        },
        "id": "INqvaremJqPp",
        "outputId": "bb79e5a1-6744-4246-d0ff-da5e5fd785b5"
      },
      "source": [
        "mse_cost(X_train, y_train, W_final)"
      ],
      "execution_count": null,
      "outputs": [
        {
          "output_type": "execute_result",
          "data": {
            "text/plain": [
              "0.3567031944254385"
            ]
          },
          "metadata": {
            "tags": []
          },
          "execution_count": 202
        }
      ]
    },
    {
      "cell_type": "code",
      "metadata": {
        "colab": {
          "base_uri": "https://localhost:8080/"
        },
        "id": "nWU2eBRKJsJ7",
        "outputId": "462abffe-49b7-4c17-9ce4-1c19ada3717b"
      },
      "source": [
        "mse_cost(X_test, y_test, W_final)"
      ],
      "execution_count": null,
      "outputs": [
        {
          "output_type": "execute_result",
          "data": {
            "text/plain": [
              "0.37922630809035096"
            ]
          },
          "metadata": {
            "tags": []
          },
          "execution_count": 203
        }
      ]
    }
  ]
}